{
 "cells": [
  {
   "cell_type": "code",
   "execution_count": 8,
   "metadata": {},
   "outputs": [
    {
     "name": "stdout",
     "output_type": "stream",
     "text": [
      "Counter({'red': 1})\n",
      "Counter({'red': 3, 'black': 3, 'blue': 2, 'white': 1})\n",
      "9\n"
     ]
    }
   ],
   "source": [
    "from collections import Counter\n",
    "c=Counter()\n",
    "c['red']+=1\n",
    "print(c)\n",
    "cars = ['red', 'blue', 'black', 'black', 'black', 'red', 'blue', 'red', 'white']\n",
    "for car in cars:\n",
    "    c[car] += 1\n",
    "c = Counter(cars)\n",
    "print(c)\n",
    "print(sum(c.values()))"
   ]
  },
  {
   "cell_type": "code",
   "execution_count": 10,
   "metadata": {},
   "outputs": [
    {
     "name": "stdout",
     "output_type": "stream",
     "text": [
      "Counter({'black': 4, 'yellow': 3, 'white': 2})\n",
      "Counter({'white': 3, 'red': 2, 'black': 2, 'yellow': 2})\n",
      "Counter({'black': 6, 'white': 5, 'yellow': 5, 'red': 2})\n"
     ]
    }
   ],
   "source": [
    "cars_moscow = ['black', 'black', 'white', 'black', 'black', 'white', 'yellow', 'yellow', 'yellow']\n",
    "cars_spb = ['red', 'black', 'black', 'white', 'white', 'yellow', 'yellow', 'red', 'white']\n",
    "counter_moscow = Counter(cars_moscow)\n",
    "counter_spb = Counter(cars_spb)\n",
    "print(counter_moscow)\n",
    "print(counter_spb)\n",
    "print(counter_moscow + counter_spb)"
   ]
  },
  {
   "cell_type": "code",
   "execution_count": 24,
   "metadata": {},
   "outputs": [
    {
     "name": "stdout",
     "output_type": "stream",
     "text": [
      "Counter({'black': 4, 'yellow': 3, 'white': 2})\n",
      "Counter({'white': 3, 'red': 2, 'black': 2, 'yellow': 2})\n",
      "Counter({'black': 6, 'white': 5, 'yellow': 5, 'red': 2})\n",
      "Counter({'black': 2, 'yellow': 1, 'white': -1, 'red': -2})\n",
      "Counter({'black': 4, 'yellow': 3, 'white': 2})\n",
      "Counter({'white': 3, 'red': 2, 'black': 2, 'yellow': 2})\n",
      "Counter({'black': 2, 'yellow': 1})\n",
      "black black black black white white yellow yellow yellow\n",
      "['black', 'white', 'yellow']\n",
      "{'black': 4, 'white': 2, 'yellow': 3}\n",
      "[('black', 4), ('yellow', 3), ('white', 2)]\n",
      "[('black', 4), ('yellow', 3)]\n",
      "Counter()\n"
     ]
    }
   ],
   "source": [
    "cars_moscow = ['black', 'black', 'white', 'black', 'black', 'white', 'yellow', 'yellow', 'yellow']\n",
    "cars_spb = ['red', 'black', 'black', 'white', 'white', 'yellow', 'yellow', 'red', 'white']\n",
    "counter_moscow = Counter(cars_moscow)\n",
    "counter_spb = Counter(cars_spb)\n",
    "print(counter_moscow)\n",
    "print(counter_spb)\n",
    "print(counter_moscow + counter_spb)\n",
    "counter_moscow.subtract(counter_spb)\n",
    "print(counter_moscow)\n",
    "counter_moscow = Counter(cars_moscow)\n",
    "counter_spb = Counter(cars_spb)\n",
    "print(counter_moscow)\n",
    "print(counter_spb)\n",
    "print(counter_moscow - counter_spb)\n",
    "print(*counter_moscow.elements())\n",
    "print(list(counter_moscow))\n",
    "print(dict(counter_moscow))\n",
    "print(counter_moscow.most_common())\n",
    "print(counter_moscow.most_common(2))\n",
    "counter_moscow.clear()\n",
    "print(counter_moscow)"
   ]
  },
  {
   "cell_type": "code",
   "execution_count": 25,
   "metadata": {},
   "outputs": [
    {
     "name": "stdout",
     "output_type": "stream",
     "text": [
      "{1: ['Ivanov', 'Kuznetsova'], 4: ['Smirnov'], 3: ['Petrov', 'Markov'], 2: ['Nikitina', 'Pavlov']}\n"
     ]
    }
   ],
   "source": [
    "students = [('Ivanov',1),('Smirnov',4),('Petrov',3),('Kuznetsova',1),\n",
    "            ('Nikitina',2),('Markov',3),('Pavlov',2)]\n",
    "groups = dict()\n",
    " \n",
    "for student, group in students:\n",
    "    # Проверяем, есть ли уже эта группа в словаре\n",
    "    if group not in groups:\n",
    "        # Если группы ещё нет в словаре, создаём для неё пустой список\n",
    "        groups[group] = list()\n",
    "    groups[group].append(student)\n",
    " \n",
    "print(groups)"
   ]
  },
  {
   "cell_type": "code",
   "execution_count": 26,
   "metadata": {},
   "outputs": [
    {
     "ename": "NameError",
     "evalue": "name 'dict_object' is not defined",
     "output_type": "error",
     "traceback": [
      "\u001b[1;31m---------------------------------------------------------------------------\u001b[0m",
      "\u001b[1;31mNameError\u001b[0m                                 Traceback (most recent call last)",
      "Cell \u001b[1;32mIn[26], line 1\u001b[0m\n\u001b[1;32m----> 1\u001b[0m \u001b[38;5;28mprint\u001b[39m(\u001b[43mdict_object\u001b[49m)\n\u001b[0;32m      2\u001b[0m \u001b[38;5;66;03m# {}\u001b[39;00m\n\u001b[0;32m      3\u001b[0m \u001b[38;5;28mprint\u001b[39m(defaultdict_object)\n",
      "\u001b[1;31mNameError\u001b[0m: name 'dict_object' is not defined"
     ]
    }
   ],
   "source": [
    "print(dict_object)\n",
    "# {}\n",
    "print(defaultdict_object)\n",
    "# defaultdict(None, {})"
   ]
  }
 ],
 "metadata": {
  "kernelspec": {
   "display_name": "Python 3",
   "language": "python",
   "name": "python3"
  },
  "language_info": {
   "codemirror_mode": {
    "name": "ipython",
    "version": 3
   },
   "file_extension": ".py",
   "mimetype": "text/x-python",
   "name": "python",
   "nbconvert_exporter": "python",
   "pygments_lexer": "ipython3",
   "version": "3.12.7"
  }
 },
 "nbformat": 4,
 "nbformat_minor": 2
}
